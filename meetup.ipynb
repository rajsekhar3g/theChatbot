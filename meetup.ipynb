{
 "cells": [
  {
   "cell_type": "code",
   "execution_count": null,
   "metadata": {
    "collapsed": false,
    "deletable": true,
    "editable": true
   },
   "outputs": [],
   "source": [
    "%%bash\n",
    "gcloud auth list"
   ]
  },
  {
   "cell_type": "markdown",
   "metadata": {
    "deletable": true,
    "editable": true
   },
   "source": [
    "gcloud is the powerful and unified command-line tool for Google Cloud Platform"
   ]
  },
  {
   "cell_type": "code",
   "execution_count": null,
   "metadata": {
    "collapsed": false,
    "deletable": true,
    "editable": true
   },
   "outputs": [],
   "source": [
    "%%bash\n",
    "gcloud config list project"
   ]
  },
  {
   "cell_type": "markdown",
   "metadata": {
    "deletable": true,
    "editable": true
   },
   "source": [
    "Once connected to the cloud shell, you should see that you are already authenticated and that the project is already set to your PROJECT_ID.\n",
    "\n",
    "List the Cloud ML models to verify that the command returns an empty list:"
   ]
  },
  {
   "cell_type": "code",
   "execution_count": null,
   "metadata": {
    "collapsed": false,
    "deletable": true,
    "editable": true
   },
   "outputs": [],
   "source": [
    "%%bash\n",
    "gcloud ml-engine models list"
   ]
  },
  {
   "cell_type": "markdown",
   "metadata": {
    "deletable": true,
    "editable": true
   },
   "source": [
    "Clone the GitHub repository:\n"
   ]
  },
  {
   "cell_type": "code",
   "execution_count": null,
   "metadata": {
    "collapsed": false,
    "deletable": true,
    "editable": true
   },
   "outputs": [],
   "source": [
    "%%bash\n",
    "git clone https://github.com/GoogleCloudPlatform/cloudml-dist-mnist-example\n",
    "cd cloudml-dist-mnist-example"
   ]
  },
  {
   "cell_type": "markdown",
   "metadata": {
    "deletable": true,
    "editable": true
   },
   "source": [
    "Next you'll create a Cloud Storage bucket to hold the MNIST data files that are used to train the model."
   ]
  },
  {
   "cell_type": "code",
   "execution_count": null,
   "metadata": {
    "collapsed": false,
    "deletable": true,
    "editable": true
   },
   "outputs": [],
   "source": [
    "%%bash\n",
    "##Paste below code in cloud console\n",
    "PROJECT_ID=$(gcloud config list project --format \"value(core.project)\")\n",
    "MNIST_BUCKET=\"${PROJECT_ID}-ml\"\n",
    "gsutil mb -c regional -l us-east1 gs://${MNIST_BUCKET}"
   ]
  },
  {
   "cell_type": "markdown",
   "metadata": {
    "deletable": true,
    "editable": true
   },
   "source": [
    "Use the following script to download the MNIST data files and copy them to the bucket:"
   ]
  },
  {
   "cell_type": "code",
   "execution_count": null,
   "metadata": {
    "collapsed": false,
    "deletable": true,
    "editable": true
   },
   "outputs": [],
   "source": [
    "%%bash\n",
    "##Paste below code in cloud console\n",
    "sudo ./scripts/create_records.py\n",
    "gsutil cp /tmp/data/train.tfrecords gs://${MNIST_BUCKET}/data/\n",
    "gsutil cp /tmp/data/test.tfrecords gs://${MNIST_BUCKET}/data/"
   ]
  },
  {
   "cell_type": "markdown",
   "metadata": {
    "deletable": true,
    "editable": true
   },
   "source": [
    "Next you'll create a Cloud Storage bucket to hold the MNIST data files that are used to train the model."
   ]
  },
  {
   "cell_type": "code",
   "execution_count": null,
   "metadata": {
    "collapsed": true,
    "deletable": true,
    "editable": true
   },
   "outputs": [],
   "source": [
    "%%bash\n",
    "PROJECT_ID=$(gcloud config list project --format \"value(core.project)\")\n",
    "MNIST_BUCKET=\"${PROJECT_ID}-ml\"\n",
    "gsutil mb -c regional -l us-east1 gs://${MNIST_BUCKET}"
   ]
  },
  {
   "cell_type": "markdown",
   "metadata": {
    "deletable": true,
    "editable": true
   },
   "source": [
    "Use the following script to download the MNIST data files and copy them to the bucket:"
   ]
  },
  {
   "cell_type": "code",
   "execution_count": null,
   "metadata": {
    "collapsed": false,
    "deletable": true,
    "editable": true
   },
   "outputs": [],
   "source": [
    "%%bash\n",
    "sudo ./scripts/create_records.py\n",
    "gsutil cp /tmp/data/train.tfrecords gs://${MNIST_BUCKET}/data/\n",
    "gsutil cp /tmp/data/test.tfrecords gs://${MNIST_BUCKET}/data/\n"
   ]
  },
  {
   "cell_type": "markdown",
   "metadata": {
    "deletable": true,
    "editable": true
   },
   "source": [
    "Submit a training job to Cloud ML Engine."
   ]
  },
  {
   "cell_type": "code",
   "execution_count": null,
   "metadata": {
    "collapsed": true,
    "deletable": true,
    "editable": true
   },
   "outputs": [],
   "source": [
    "%%bash\n",
    "JOB_NAME=\"job_$(date +%Y%m%d_%H%M%S)\"\n",
    "gcloud ml-engine jobs submit training ${JOB_NAME} \\\n",
    "    --package-path trainer \\\n",
    "    --module-name trainer.task \\\n",
    "    --staging-bucket gs://${MNIST_BUCKET} \\\n",
    "    --job-dir gs://${MNIST_BUCKET}/${JOB_NAME} \\\n",
    "    --runtime-version 1.2 \\\n",
    "    --region us-central1 \\\n",
    "    --config config/config.yaml \\\n",
    "    -- \\\n",
    "    --data_dir gs://${MNIST_BUCKET}/data \\\n",
    "    --output_dir gs://${MNIST_BUCKET}/${JOB_NAME} \\\n",
    "    --train_steps 5000"
   ]
  },
  {
   "cell_type": "markdown",
   "metadata": {
    "deletable": true,
    "editable": true
   },
   "source": [
    "Run the following command in Cloud Shell to start TensorBoard:"
   ]
  },
  {
   "cell_type": "code",
   "execution_count": null,
   "metadata": {
    "collapsed": true,
    "deletable": true,
    "editable": true
   },
   "outputs": [],
   "source": [
    "tensorboard --port 8080 --logdir gs://${MNIST_BUCKET}/${JOB_NAME}"
   ]
  },
  {
   "cell_type": "markdown",
   "metadata": {
    "deletable": true,
    "editable": true
   },
   "source": [
    "To open a new browser window, select Preview on port 8080 from the Web preview menu in the top-right corner of the Cloud Shell toolbar."
   ]
  },
  {
   "cell_type": "markdown",
   "metadata": {
    "deletable": true,
    "editable": true
   },
   "source": [
    "You deploy the trained model for predictions using the model binary.\n",
    "\n",
    "Deploy the model and set the default version."
   ]
  },
  {
   "cell_type": "code",
   "execution_count": null,
   "metadata": {
    "collapsed": true,
    "deletable": true,
    "editable": true
   },
   "outputs": [],
   "source": [
    "%%bash\n",
    "MODEL_NAME=MNIST\n",
    "gcloud ml-engine models create --regions us-central1 ${MODEL_NAME}\n",
    "VERSION_NAME=v1\n",
    "ORIGIN=$(gsutil ls gs://${MNIST_BUCKET}/${JOB_NAME}/export/Servo | tail -1)\n",
    "gcloud ml-engine versions create \\\n",
    "    --origin ${ORIGIN} \\\n",
    "    --runtime-version=1.2 \\\n",
    "    --model ${MODEL_NAME} \\\n",
    "    ${VERSION_NAME}"
   ]
  },
  {
   "cell_type": "code",
   "execution_count": null,
   "metadata": {
    "collapsed": false,
    "deletable": true,
    "editable": true
   },
   "outputs": [],
   "source": [
    "%%bash\n",
    "gcloud ml-engine versions set-default --model ${MODEL_NAME} ${VERSION_NAME}"
   ]
  },
  {
   "cell_type": "markdown",
   "metadata": {
    "deletable": true,
    "editable": true
   },
   "source": [
    "These commands will take about five minutes to complete."
   ]
  },
  {
   "cell_type": "markdown",
   "metadata": {
    "deletable": true,
    "editable": true
   },
   "source": [
    "Test the prediction API by using a sample request file."
   ]
  },
  {
   "cell_type": "code",
   "execution_count": null,
   "metadata": {
    "collapsed": false,
    "deletable": true,
    "editable": true
   },
   "outputs": [],
   "source": [
    "%%bash\n",
    "./scripts/make_request.py"
   ]
  },
  {
   "cell_type": "markdown",
   "metadata": {
    "deletable": true,
    "editable": true
   },
   "source": [
    "This script creates a JSON file, named request.json, containing 10 test images for predictions."
   ]
  },
  {
   "cell_type": "markdown",
   "metadata": {
    "deletable": true,
    "editable": true
   },
   "source": [
    "Submit an online prediction request."
   ]
  },
  {
   "cell_type": "code",
   "execution_count": null,
   "metadata": {
    "collapsed": false,
    "deletable": true,
    "editable": true
   },
   "outputs": [],
   "source": [
    "%%bash\n",
    "gcloud ml-engine predict --model ${MODEL_NAME} --json-instances request.json"
   ]
  },
  {
   "cell_type": "markdown",
   "metadata": {
    "deletable": true,
    "editable": true
   },
   "source": [
    "Run this:"
   ]
  },
  {
   "cell_type": "code",
   "execution_count": null,
   "metadata": {
    "collapsed": true,
    "deletable": true,
    "editable": true
   },
   "outputs": [],
   "source": [
    "%%bash\n",
    "wget https://raw.githubusercontent.com/GoogleCloudPlatform/cloudml-dist-mnist-example/master/notebooks/Online%20prediction%20example.ipynb\n",
    "cat Online\\ prediction\\ example.ipynb > Untitled\\ Notebook.ipynb"
   ]
  }
 ],
 "metadata": {
  "kernelspec": {
   "display_name": "Python 2",
   "language": "python",
   "name": "python2"
  },
  "language_info": {
   "codemirror_mode": {
    "name": "ipython",
    "version": 2
   },
   "file_extension": ".py",
   "mimetype": "text/x-python",
   "name": "python",
   "nbconvert_exporter": "python",
   "pygments_lexer": "ipython2",
   "version": "2.7.15"
  }
 },
 "nbformat": 4,
 "nbformat_minor": 2
}
